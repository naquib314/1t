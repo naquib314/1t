{
 "cells": [
  {
   "cell_type": "code",
   "execution_count": 7,
   "id": "f719df47",
   "metadata": {},
   "outputs": [],
   "source": [
    "import h5py as h5\n",
    "import time\n",
    "import numpy as np\n",
    "import matplotlib.pyplot as plt\n",
    "\n",
    "# def ReadingAndWriting():\n",
    "#     File_Name_HDF5='CC.h5'\n",
    "\n",
    "#     #shape = (639038, 10000)\n",
    "#     shape = (639038, 1000)\n",
    "#     chunk_shape=(100, 1000)\n",
    "#     Array=np.array(np.random.rand(shape[0]),np.float32)\n",
    "\n",
    "#     #We are using 4GB of chunk_cache_mem here (\"rdcc_nbytes\")\n",
    "#     f = h5.File(File_Name_HDF5, 'w',rdcc_nbytes =1024**2*4000,rdcc_nslots=1e7)\n",
    "#     d = f.create_dataset('Test', shape ,dtype=np.float32,chunks=chunk_shape,compression=\"lzf\")\n",
    "\n",
    "#     #Writing columns\n",
    "#     t1=time.time()\n",
    "#     for i in range(0,shape[1]):\n",
    "#         d[:,i:i+1]=np.expand_dims(Array, 1)\n",
    "\n",
    "#     f.close()\n",
    "#     print(time.time()-t1)\n",
    "\n",
    "#     # Reading random rows\n",
    "#     # If we read one row there are actually 100 read, but if we access a row\n",
    "#     # which is already in cache we would see a huge speed up.\n",
    "#     f = h5.File(File_Name_HDF5,'r',rdcc_nbytes=1024**2*4000,rdcc_nslots=1e7)\n",
    "#     d = f[\"Test\"]\n",
    "#     for j in range(0,639):\n",
    "#         t1=time.time()\n",
    "#         # With more iterations it will be more likely that we hit a already cached row\n",
    "#         inds=np.random.randint(0, high=shape[0]-1, size=1000)\n",
    "#         for i in range(0,inds.shape[0]):\n",
    "#             Array=np.copy(d[inds[i],:])\n",
    "#         print(time.time()-t1)\n",
    "#     f.close()"
   ]
  },
  {
   "cell_type": "code",
   "execution_count": 2,
   "id": "3fbbe9bf",
   "metadata": {},
   "outputs": [
    {
     "ename": "NameError",
     "evalue": "name 'ReadingAndWriting' is not defined",
     "output_type": "error",
     "traceback": [
      "\u001b[0;31m---------------------------------------------------------------------------\u001b[0m",
      "\u001b[0;31mNameError\u001b[0m                                 Traceback (most recent call last)",
      "Cell \u001b[0;32mIn[2], line 1\u001b[0m\n\u001b[0;32m----> 1\u001b[0m \u001b[43mReadingAndWriting\u001b[49m()\n",
      "\u001b[0;31mNameError\u001b[0m: name 'ReadingAndWriting' is not defined"
     ]
    }
   ],
   "source": [
    "# ReadingAndWriting()"
   ]
  },
  {
   "cell_type": "code",
   "execution_count": 18,
   "id": "46a9434f",
   "metadata": {},
   "outputs": [],
   "source": [
    "f_rnai = h5.File('rnai.hdf5','r')\n"
   ]
  },
  {
   "cell_type": "code",
   "execution_count": 9,
   "id": "7dbe62e7",
   "metadata": {},
   "outputs": [],
   "source": [
    "f_cc = h5.File('cc.hdf5','r')\n"
   ]
  },
  {
   "cell_type": "code",
   "execution_count": 10,
   "id": "301a140c",
   "metadata": {},
   "outputs": [
    {
     "data": {
      "text/plain": [
       "<KeysViewHDF5 ['data', 'dim_0', 'dim_1']>"
      ]
     },
     "execution_count": 10,
     "metadata": {},
     "output_type": "execute_result"
    }
   ],
   "source": [
    "f_rnai.keys()"
   ]
  },
  {
   "cell_type": "code",
   "execution_count": 11,
   "id": "a10f9873",
   "metadata": {},
   "outputs": [
    {
     "data": {
      "text/plain": [
       "<HDF5 dataset \"dim_0\": shape (17309,), type \"|O\">"
      ]
     },
     "execution_count": 11,
     "metadata": {},
     "output_type": "execute_result"
    }
   ],
   "source": [
    "f_rnai['dim_0']"
   ]
  },
  {
   "cell_type": "code",
   "execution_count": 12,
   "id": "afbbb135",
   "metadata": {},
   "outputs": [
    {
     "data": {
      "text/plain": [
       "<HDF5 dataset \"data\": shape (17309, 712), type \"<f8\">"
      ]
     },
     "execution_count": 12,
     "metadata": {},
     "output_type": "execute_result"
    }
   ],
   "source": [
    "f_rnai['data']"
   ]
  },
  {
   "cell_type": "code",
   "execution_count": 13,
   "id": "72e6f0be",
   "metadata": {},
   "outputs": [
    {
     "data": {
      "text/plain": [
       "<HDF5 dataset \"dim_1\": shape (712,), type \"|O\">"
      ]
     },
     "execution_count": 13,
     "metadata": {},
     "output_type": "execute_result"
    }
   ],
   "source": [
    "f_rnai['dim_1']"
   ]
  },
  {
   "cell_type": "code",
   "execution_count": 15,
   "id": "82bd51ad",
   "metadata": {},
   "outputs": [],
   "source": [
    "f_rnai.close()"
   ]
  },
  {
   "cell_type": "code",
   "execution_count": 16,
   "id": "65ea4d7c",
   "metadata": {},
   "outputs": [
    {
     "data": {
      "text/plain": [
       "<Closed HDF5 file>"
      ]
     },
     "execution_count": 16,
     "metadata": {},
     "output_type": "execute_result"
    }
   ],
   "source": [
    "f_rnai"
   ]
  },
  {
   "cell_type": "code",
   "execution_count": 19,
   "id": "6ab9423c",
   "metadata": {},
   "outputs": [
    {
     "data": {
      "text/plain": [
       "<HDF5 dataset \"data\": shape (17309, 712), type \"<f8\">"
      ]
     },
     "execution_count": 19,
     "metadata": {},
     "output_type": "execute_result"
    }
   ],
   "source": [
    "ds = f_rnai['data']\n",
    "ds"
   ]
  },
  {
   "cell_type": "code",
   "execution_count": 20,
   "id": "b852f6ac",
   "metadata": {},
   "outputs": [
    {
     "data": {
      "text/plain": [
       "array([[        nan,         nan,  0.14604215, ..., -0.07931286,\n",
       "        -0.14155936,  0.21426799],\n",
       "       [        nan,         nan,  0.10285354, ..., -0.13092062,\n",
       "         0.12735793, -0.40597398],\n",
       "       [        nan,         nan,  0.16883933, ..., -0.13447915,\n",
       "         0.08350554, -0.40429051],\n",
       "       ...,\n",
       "       [        nan,         nan,  0.02559558, ...,  0.15978078,\n",
       "         0.28645569,  0.04718449],\n",
       "       [-0.84329469, -0.30703051, -0.41366932, ..., -1.03911013,\n",
       "        -0.30141478, -0.8655022 ],\n",
       "       [        nan,         nan,  0.12266892, ...,  0.10036145,\n",
       "        -0.11726819, -0.03606562]])"
      ]
     },
     "execution_count": 20,
     "metadata": {},
     "output_type": "execute_result"
    }
   ],
   "source": [
    "ds[...]"
   ]
  },
  {
   "cell_type": "code",
   "execution_count": 27,
   "id": "0069efae",
   "metadata": {},
   "outputs": [
    {
     "data": {
      "text/plain": [
       "[<matplotlib.lines.Line2D at 0x11fb59070>]"
      ]
     },
     "execution_count": 27,
     "metadata": {},
     "output_type": "execute_result"
    },
    {
     "data": {
      "image/png": "[encoded data removed]",
      "text/plain": [
       "<Figure size 432x288 with 1 Axes>"
      ]
     },
     "metadata": {
      "needs_background": "light"
     },
     "output_type": "display_data"
    }
   ],
   "source": [
    "plt.plot(ds[...])"
   ]
  },
  {
   "cell_type": "code",
   "execution_count": 31,
   "id": "a4c3a827",
   "metadata": {},
   "outputs": [
    {
     "data": {
      "text/plain": [
       "array([        nan,  0.07697338,         nan,         nan,         nan,\n",
       "        0.13614715,         nan, -0.06856858,  0.07870725,         nan,\n",
       "       -0.33128205,  0.12467155,  0.05273172, -0.04642262, -0.407814  ,\n",
       "               nan,  0.09574276, -0.05947497,  0.07325646, -0.25088167,\n",
       "        0.19775175,  0.13106662,         nan,         nan, -0.12377479,\n",
       "               nan, -0.25802459,  0.05292112, -0.08407032,  0.1111551 ,\n",
       "       -0.23034663,  0.23398023, -0.12837495,  0.19349041, -0.02129389,\n",
       "       -0.00441515, -0.27044262,  0.13320632,  0.07389783,         nan,\n",
       "        0.04498592, -0.05252537,  0.00871538,  0.02054039, -0.02587299,\n",
       "       -0.33225307, -0.04757974,  0.1650415 , -0.16507375,  0.21824045,\n",
       "        0.19991025,         nan,         nan,  0.08130915,  0.24823043,\n",
       "        0.19327955,         nan,         nan,         nan, -0.16337515,\n",
       "               nan,         nan, -0.13378573, -0.00344052, -0.04230234,\n",
       "       -0.16830552, -0.2997432 ,         nan,  0.11419842,         nan,\n",
       "        0.02953796,  0.08350554])"
      ]
     },
     "execution_count": 31,
     "metadata": {},
     "output_type": "execute_result"
    }
   ],
   "source": [
    "ds[::10]"
   ]
  },
  {
   "cell_type": "code",
   "execution_count": 35,
   "id": "1c40d75c",
   "metadata": {},
   "outputs": [
    {
     "data": {
      "text/plain": [
       "[]"
      ]
     },
     "execution_count": 35,
     "metadata": {},
     "output_type": "execute_result"
    }
   ],
   "source": [
    "list(ds.attrs)"
   ]
  },
  {
   "cell_type": "code",
   "execution_count": null,
   "id": "03309ef8",
   "metadata": {},
   "outputs": [],
   "source": []
  }
 ],
 "metadata": {
  "kernelspec": {
   "display_name": "Python 3 (ipykernel)",
   "language": "python",
   "name": "python3"
  },
  "language_info": {
   "codemirror_mode": {
    "name": "ipython",
    "version": 3
   },
   "file_extension": ".py",
   "mimetype": "text/x-python",
   "name": "python",
   "nbconvert_exporter": "python",
   "pygments_lexer": "ipython3",
   "version": "3.9.0"
  }
 },
 "nbformat": 4,
 "nbformat_minor": 5
}
