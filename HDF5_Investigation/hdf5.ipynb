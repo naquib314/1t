{
 "cells": [
  {
   "cell_type": "code",
   "execution_count": 4,
   "id": "fbf96f26",
   "metadata": {},
   "outputs": [],
   "source": [
    "import h5py\n",
    "import numpy as np\n",
    "import matplotlib.pyplot as plt"
   ]
  },
  {
   "cell_type": "code",
   "execution_count": 5,
   "id": "124553e6",
   "metadata": {},
   "outputs": [
    {
     "name": "stdout",
     "output_type": "stream",
     "text": [
      "CC.hdf5    RNAi.hdf5  ac.hdf5    foo.hdf5   t.hdf5\r\n"
     ]
    }
   ],
   "source": [
    "ls *.hdf5"
   ]
  },
  {
   "cell_type": "code",
   "execution_count": 6,
   "id": "a52ce886",
   "metadata": {},
   "outputs": [
    {
     "data": {
      "text/plain": [
       "<HDF5 file \"test.hdf5\" (mode r+)>"
      ]
     },
     "execution_count": 6,
     "metadata": {},
     "output_type": "execute_result"
    }
   ],
   "source": [
    "f = h5py.File('test.hdf5','w')\n",
    "f"
   ]
  },
  {
   "cell_type": "code",
   "execution_count": 7,
   "id": "a1ce9e98",
   "metadata": {},
   "outputs": [
    {
     "data": {
      "text/plain": [
       "'/'"
      ]
     },
     "execution_count": 7,
     "metadata": {},
     "output_type": "execute_result"
    }
   ],
   "source": [
    "f.name"
   ]
  },
  {
   "cell_type": "code",
   "execution_count": 8,
   "id": "132aa3f7",
   "metadata": {},
   "outputs": [
    {
     "data": {
      "text/plain": [
       "[]"
      ]
     },
     "execution_count": 8,
     "metadata": {},
     "output_type": "execute_result"
    }
   ],
   "source": [
    "list(f.keys())"
   ]
  },
  {
   "cell_type": "code",
   "execution_count": 9,
   "id": "ddbb44b8",
   "metadata": {},
   "outputs": [
    {
     "data": {
      "text/plain": [
       "<HDF5 group \"/grp1\" (0 members)>"
      ]
     },
     "execution_count": 9,
     "metadata": {},
     "output_type": "execute_result"
    }
   ],
   "source": [
    "grp = f.create_group(\"grp1\")\n",
    "grp"
   ]
  },
  {
   "cell_type": "code",
   "execution_count": 10,
   "id": "ef4cacdb",
   "metadata": {},
   "outputs": [
    {
     "data": {
      "text/plain": [
       "<HDF5 group \"/grp1/subgrp1\" (0 members)>"
      ]
     },
     "execution_count": 10,
     "metadata": {},
     "output_type": "execute_result"
    }
   ],
   "source": [
    "subgrp = grp.create_group(\"subgrp1\")\n",
    "subgrp"
   ]
  },
  {
   "cell_type": "code",
   "execution_count": 11,
   "id": "ae63ab01",
   "metadata": {},
   "outputs": [
    {
     "data": {
      "text/plain": [
       "<HDF5 group \"/grp1\" (1 members)>"
      ]
     },
     "execution_count": 11,
     "metadata": {},
     "output_type": "execute_result"
    }
   ],
   "source": [
    "grp"
   ]
  },
  {
   "cell_type": "code",
   "execution_count": 12,
   "id": "3e19b43a",
   "metadata": {},
   "outputs": [],
   "source": [
    "del grp['subgrp1']"
   ]
  },
  {
   "cell_type": "code",
   "execution_count": 13,
   "id": "bd99e7f1",
   "metadata": {},
   "outputs": [
    {
     "data": {
      "text/plain": [
       "<HDF5 group \"/grp1\" (0 members)>"
      ]
     },
     "execution_count": 13,
     "metadata": {},
     "output_type": "execute_result"
    }
   ],
   "source": [
    "grp"
   ]
  },
  {
   "cell_type": "code",
   "execution_count": 14,
   "id": "cb1b7952",
   "metadata": {},
   "outputs": [
    {
     "data": {
      "text/plain": [
       "array([[-0.6629369 , -0.083222  ,  0.78678465, ..., -0.60402045,\n",
       "         0.30921621,  0.32274223],\n",
       "       [ 1.65684941,  1.81157478, -0.58112347, ..., -0.8266425 ,\n",
       "        -0.14968202, -0.70237102],\n",
       "       [-1.09869976,  1.20535342,  0.58283724, ..., -1.96606708,\n",
       "         0.67811401,  1.41829879],\n",
       "       ...,\n",
       "       [ 0.12738114, -0.70627814,  1.9276564 , ...,  1.00978219,\n",
       "         0.81511658, -0.75722884],\n",
       "       [-0.71374493, -0.21506902, -1.49835381, ..., -1.42165749,\n",
       "        -2.4525693 , -0.96614514],\n",
       "       [-0.87216783,  0.76681657, -0.83032781, ...,  0.88566248,\n",
       "         0.62789108,  0.37365516]])"
      ]
     },
     "execution_count": 14,
     "metadata": {},
     "output_type": "execute_result"
    }
   ],
   "source": [
    "test_data = np.array(np.random.randn(10000, 1000), dtype=np.float64)\n",
    "test_data"
   ]
  },
  {
   "cell_type": "code",
   "execution_count": 15,
   "id": "a8ce889e",
   "metadata": {},
   "outputs": [
    {
     "data": {
      "text/plain": [
       "<HDF5 dataset \"data\": shape (10000, 1000), type \"<f8\">"
      ]
     },
     "execution_count": 15,
     "metadata": {},
     "output_type": "execute_result"
    }
   ],
   "source": [
    "f.create_dataset('data', data=test_data)"
   ]
  },
  {
   "cell_type": "code",
   "execution_count": 16,
   "id": "941b265b",
   "metadata": {},
   "outputs": [
    {
     "data": {
      "text/plain": [
       "<HDF5 dataset \"data\": shape (10000, 1000), type \"<f8\">"
      ]
     },
     "execution_count": 16,
     "metadata": {},
     "output_type": "execute_result"
    }
   ],
   "source": [
    "f.create_dataset('grp2/data', data=test_data)"
   ]
  },
  {
   "cell_type": "code",
   "execution_count": 17,
   "id": "d1b933f4",
   "metadata": {},
   "outputs": [
    {
     "data": {
      "text/plain": [
       "<KeysViewHDF5 ['data', 'grp1', 'grp2']>"
      ]
     },
     "execution_count": 17,
     "metadata": {},
     "output_type": "execute_result"
    }
   ],
   "source": [
    "f.keys()"
   ]
  },
  {
   "cell_type": "code",
   "execution_count": null,
   "id": "15253190",
   "metadata": {},
   "outputs": [],
   "source": [
    "f['grp2']['data']"
   ]
  },
  {
   "cell_type": "code",
   "execution_count": null,
   "id": "ced0bdc7",
   "metadata": {},
   "outputs": [],
   "source": [
    "### Data Slicing"
   ]
  },
  {
   "cell_type": "code",
   "execution_count": 18,
   "id": "32f30b36",
   "metadata": {},
   "outputs": [
    {
     "name": "stdout",
     "output_type": "stream",
     "text": [
      "CPU times: user 1.82 ms, sys: 1.89 ms, total: 3.71 ms\n",
      "Wall time: 5.12 ms\n"
     ]
    },
    {
     "data": {
      "text/plain": [
       "<HDF5 dataset \"data\": shape (10000, 1000), type \"<f8\">"
      ]
     },
     "execution_count": 18,
     "metadata": {},
     "output_type": "execute_result"
    }
   ],
   "source": [
    "%%time\n",
    "f['grp2']['data']"
   ]
  },
  {
   "cell_type": "code",
   "execution_count": 43,
   "id": "1b1bc9bc",
   "metadata": {},
   "outputs": [
    {
     "name": "stdout",
     "output_type": "stream",
     "text": [
      "CPU times: user 1.54 ms, sys: 317 µs, total: 1.86 ms\n",
      "Wall time: 4.16 ms\n"
     ]
    },
    {
     "data": {
      "text/plain": [
       "array([[-0.6629369 , -0.083222  ,  0.78678465, ..., -0.60402045,\n",
       "         0.30921621,  0.32274223],\n",
       "       [ 1.65684941,  1.81157478, -0.58112347, ..., -0.8266425 ,\n",
       "        -0.14968202, -0.70237102],\n",
       "       [-1.09869976,  1.20535342,  0.58283724, ..., -1.96606708,\n",
       "         0.67811401,  1.41829879],\n",
       "       ...,\n",
       "       [ 0.31260315, -2.8429931 , -0.11119945, ...,  0.89681444,\n",
       "        -1.435853  , -0.18240694],\n",
       "       [ 0.17298251, -0.21348632, -0.50641505, ..., -0.85435628,\n",
       "        -1.02027907,  0.37475804],\n",
       "       [-0.81741549,  1.33193152, -0.74258592, ..., -0.09692635,\n",
       "        -1.17859348, -1.03134472]])"
      ]
     },
     "execution_count": 43,
     "metadata": {},
     "output_type": "execute_result"
    }
   ],
   "source": [
    "%%time\n",
    "f['grp2']['data'][:10]"
   ]
  },
  {
   "cell_type": "code",
   "execution_count": 46,
   "id": "55fcfe74",
   "metadata": {},
   "outputs": [
    {
     "name": "stdout",
     "output_type": "stream",
     "text": [
      "84.7 µs ± 559 ns per loop (mean ± std. dev. of 7 runs, 10,000 loops each)\n"
     ]
    }
   ],
   "source": [
    "%%timeit\n",
    "f['grp2']['data'][10]"
   ]
  },
  {
   "cell_type": "code",
   "execution_count": 21,
   "id": "0285c388",
   "metadata": {},
   "outputs": [
    {
     "name": "stdout",
     "output_type": "stream",
     "text": [
      "CPU times: user 2.49 ms, sys: 5.13 ms, total: 7.62 ms\n",
      "Wall time: 9.5 ms\n"
     ]
    },
    {
     "data": {
      "text/plain": [
       "array([[-0.6629369 , -0.083222  ,  0.78678465, ..., -0.60402045,\n",
       "         0.30921621,  0.32274223],\n",
       "       [ 1.65684941,  1.81157478, -0.58112347, ..., -0.8266425 ,\n",
       "        -0.14968202, -0.70237102],\n",
       "       [-1.09869976,  1.20535342,  0.58283724, ..., -1.96606708,\n",
       "         0.67811401,  1.41829879],\n",
       "       ...,\n",
       "       [-1.41801451, -1.50522127,  0.32751112, ...,  1.46775141,\n",
       "        -1.61606727,  0.01151317],\n",
       "       [ 0.36102929,  0.2398204 ,  0.45041452, ...,  0.60286495,\n",
       "        -0.12738818, -0.56043784],\n",
       "       [ 1.32267552,  0.99309706,  1.03991064, ..., -0.90981611,\n",
       "         1.40484222, -0.54803533]])"
      ]
     },
     "execution_count": 21,
     "metadata": {},
     "output_type": "execute_result"
    }
   ],
   "source": [
    "%%time\n",
    "f['grp2']['data'][:1000]"
   ]
  },
  {
   "cell_type": "code",
   "execution_count": 22,
   "id": "e9c14931",
   "metadata": {},
   "outputs": [
    {
     "name": "stdout",
     "output_type": "stream",
     "text": [
      "CPU times: user 2.49 ms, sys: 4.58 ms, total: 7.07 ms\n",
      "Wall time: 5.93 ms\n"
     ]
    },
    {
     "data": {
      "text/plain": [
       "array([[-0.6629369 , -0.083222  ,  0.78678465, ..., -0.60402045,\n",
       "         0.30921621,  0.32274223],\n",
       "       [-0.23647256, -0.32839387,  1.20884966, ..., -0.68169262,\n",
       "        -0.07326177,  0.06880493],\n",
       "       [-0.79423517, -1.14075143, -1.92140488, ..., -1.1545242 ,\n",
       "        -1.59933867, -1.04918633],\n",
       "       ...,\n",
       "       [-0.41087465, -1.0627887 , -0.29984161, ...,  2.14829747,\n",
       "        -0.31672831,  0.56592023],\n",
       "       [-0.65135049, -0.1830246 ,  0.67046726, ..., -1.63669957,\n",
       "        -0.44336007, -0.74529049],\n",
       "       [-0.33468052,  0.32631875,  1.77610411, ..., -0.74030001,\n",
       "        -0.16700581, -0.4805291 ]])"
      ]
     },
     "execution_count": 22,
     "metadata": {},
     "output_type": "execute_result"
    }
   ],
   "source": [
    "%%time\n",
    "f['grp2']['data'][::100]"
   ]
  },
  {
   "cell_type": "code",
   "execution_count": 23,
   "id": "26a67954",
   "metadata": {},
   "outputs": [
    {
     "data": {
      "text/plain": [
       "<HDF5 dataset \"autochunk1\": shape (10000, 1000), type \"<f8\">"
      ]
     },
     "execution_count": 23,
     "metadata": {},
     "output_type": "execute_result"
    }
   ],
   "source": [
    "f.create_dataset(\"autochunk1\", data=test_data, chunks=True)"
   ]
  },
  {
   "cell_type": "code",
   "execution_count": 24,
   "id": "a393ea17",
   "metadata": {},
   "outputs": [
    {
     "data": {
      "text/plain": [
       "<KeysViewHDF5 ['autochunk1', 'data', 'grp1', 'grp2']>"
      ]
     },
     "execution_count": 24,
     "metadata": {},
     "output_type": "execute_result"
    }
   ],
   "source": [
    "f.keys()"
   ]
  },
  {
   "cell_type": "code",
   "execution_count": 45,
   "id": "0a615d65",
   "metadata": {},
   "outputs": [
    {
     "name": "stdout",
     "output_type": "stream",
     "text": [
      "210 µs ± 3.91 µs per loop (mean ± std. dev. of 7 runs, 1,000 loops each)\n"
     ]
    }
   ],
   "source": [
    "%%timeit\n",
    "f['autochunk1'][:10]"
   ]
  },
  {
   "cell_type": "code",
   "execution_count": 32,
   "id": "4b24848d",
   "metadata": {},
   "outputs": [
    {
     "data": {
      "text/plain": [
       "<HDF5 dataset \"data_columnwise\": shape (10000, 1000), type \"<f8\">"
      ]
     },
     "execution_count": 32,
     "metadata": {},
     "output_type": "execute_result"
    }
   ],
   "source": [
    "f.create_dataset('data_columnwise', shape=(10000, 1000), dtype=np.float64, chunks=(10000, 1), data=test_data)"
   ]
  },
  {
   "cell_type": "code",
   "execution_count": null,
   "id": "65faf5e3",
   "metadata": {},
   "outputs": [],
   "source": [
    "f.keys()"
   ]
  },
  {
   "cell_type": "code",
   "execution_count": null,
   "id": "d700ffcd",
   "metadata": {},
   "outputs": [],
   "source": [
    "f.create_dataset(\"zipped\", (100, 100), compression=\"gzip\")"
   ]
  },
  {
   "cell_type": "code",
   "execution_count": null,
   "id": "d5933da7",
   "metadata": {},
   "outputs": [],
   "source": []
  }
 ],
 "metadata": {
  "kernelspec": {
   "display_name": "Python 3 (ipykernel)",
   "language": "python",
   "name": "python3"
  },
  "language_info": {
   "codemirror_mode": {
    "name": "ipython",
    "version": 3
   },
   "file_extension": ".py",
   "mimetype": "text/x-python",
   "name": "python",
   "nbconvert_exporter": "python",
   "pygments_lexer": "ipython3",
   "version": "3.8.11"
  }
 },
 "nbformat": 4,
 "nbformat_minor": 5
}
